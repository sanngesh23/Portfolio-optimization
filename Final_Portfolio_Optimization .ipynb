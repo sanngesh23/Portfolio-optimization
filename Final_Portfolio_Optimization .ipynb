{
 "cells": [
  {
   "cell_type": "markdown",
   "id": "a04e775a",
   "metadata": {},
   "source": [
    "# Portfolio Optimization of American stocks \n",
    "\n",
    "The main idea of this project is to understand modern portfolio theory and optimize the portfolio using scipy optimizer "
   ]
  },
  {
   "cell_type": "markdown",
   "id": "5ee59f1f",
   "metadata": {},
   "source": [
    "**Importing Pandas DataReader to get stocks data.**"
   ]
  },
  {
   "cell_type": "code",
   "execution_count": 1,
   "id": "95ea1203",
   "metadata": {},
   "outputs": [],
   "source": [
    "import pandas_datareader.data as web\n",
    "import datetime\n",
    "import pandas as pd\n",
    "import numpy as np\n",
    "import matplotlib.pyplot as plt\n",
    "%matplotlib inline "
   ]
  },
  {
   "cell_type": "code",
   "execution_count": 2,
   "id": "6561edd3",
   "metadata": {},
   "outputs": [],
   "source": [
    "start = datetime.datetime(2020,1,1)\n",
    "end = datetime.datetime(2021,1,1)"
   ]
  },
  {
   "cell_type": "markdown",
   "id": "8314eef9",
   "metadata": {},
   "source": [
    "After research, I selected four stocks from the US nasdaq market. "
   ]
  },
  {
   "cell_type": "code",
   "execution_count": 3,
   "id": "8ae04fa9",
   "metadata": {},
   "outputs": [],
   "source": [
    "msft = web.DataReader('MSFT','yahoo',start,end)\n",
    "google = web.DataReader('GOOGL','yahoo',start,end)\n",
    "tesla = web.DataReader('TSLA','yahoo',start,end)\n",
    "amzn = web.DataReader('AMZN','yahoo',start,end)"
   ]
  },
  {
   "cell_type": "code",
   "execution_count": 4,
   "id": "847baa62",
   "metadata": {},
   "outputs": [
    {
     "data": {
      "text/html": [
       "<div>\n",
       "<style scoped>\n",
       "    .dataframe tbody tr th:only-of-type {\n",
       "        vertical-align: middle;\n",
       "    }\n",
       "\n",
       "    .dataframe tbody tr th {\n",
       "        vertical-align: top;\n",
       "    }\n",
       "\n",
       "    .dataframe thead th {\n",
       "        text-align: right;\n",
       "    }\n",
       "</style>\n",
       "<table border=\"1\" class=\"dataframe\">\n",
       "  <thead>\n",
       "    <tr style=\"text-align: right;\">\n",
       "      <th></th>\n",
       "      <th>MICROSOFT</th>\n",
       "      <th>GOOGLE</th>\n",
       "      <th>TESLA</th>\n",
       "      <th>AMAZON</th>\n",
       "    </tr>\n",
       "    <tr>\n",
       "      <th>Date</th>\n",
       "      <th></th>\n",
       "      <th></th>\n",
       "      <th></th>\n",
       "      <th></th>\n",
       "    </tr>\n",
       "  </thead>\n",
       "  <tbody>\n",
       "    <tr>\n",
       "      <th>2019-12-31</th>\n",
       "      <td>157.699997</td>\n",
       "      <td>66.969498</td>\n",
       "      <td>27.888666</td>\n",
       "      <td>92.391998</td>\n",
       "    </tr>\n",
       "    <tr>\n",
       "      <th>2020-01-02</th>\n",
       "      <td>160.619995</td>\n",
       "      <td>68.433998</td>\n",
       "      <td>28.684000</td>\n",
       "      <td>94.900497</td>\n",
       "    </tr>\n",
       "    <tr>\n",
       "      <th>2020-01-03</th>\n",
       "      <td>158.619995</td>\n",
       "      <td>68.075996</td>\n",
       "      <td>29.534000</td>\n",
       "      <td>93.748497</td>\n",
       "    </tr>\n",
       "    <tr>\n",
       "      <th>2020-01-06</th>\n",
       "      <td>159.029999</td>\n",
       "      <td>69.890503</td>\n",
       "      <td>30.102667</td>\n",
       "      <td>95.143997</td>\n",
       "    </tr>\n",
       "    <tr>\n",
       "      <th>2020-01-07</th>\n",
       "      <td>157.580002</td>\n",
       "      <td>69.755501</td>\n",
       "      <td>31.270666</td>\n",
       "      <td>95.343002</td>\n",
       "    </tr>\n",
       "    <tr>\n",
       "      <th>...</th>\n",
       "      <td>...</td>\n",
       "      <td>...</td>\n",
       "      <td>...</td>\n",
       "      <td>...</td>\n",
       "    </tr>\n",
       "    <tr>\n",
       "      <th>2020-12-24</th>\n",
       "      <td>222.750000</td>\n",
       "      <td>86.708000</td>\n",
       "      <td>220.589996</td>\n",
       "      <td>158.634506</td>\n",
       "    </tr>\n",
       "    <tr>\n",
       "      <th>2020-12-28</th>\n",
       "      <td>224.960007</td>\n",
       "      <td>88.697998</td>\n",
       "      <td>221.229996</td>\n",
       "      <td>164.197998</td>\n",
       "    </tr>\n",
       "    <tr>\n",
       "      <th>2020-12-29</th>\n",
       "      <td>224.149994</td>\n",
       "      <td>87.888000</td>\n",
       "      <td>221.996674</td>\n",
       "      <td>166.100006</td>\n",
       "    </tr>\n",
       "    <tr>\n",
       "      <th>2020-12-30</th>\n",
       "      <td>221.679993</td>\n",
       "      <td>86.812500</td>\n",
       "      <td>231.593338</td>\n",
       "      <td>164.292496</td>\n",
       "    </tr>\n",
       "    <tr>\n",
       "      <th>2020-12-31</th>\n",
       "      <td>222.419998</td>\n",
       "      <td>87.632004</td>\n",
       "      <td>235.223328</td>\n",
       "      <td>162.846497</td>\n",
       "    </tr>\n",
       "  </tbody>\n",
       "</table>\n",
       "<p>254 rows × 4 columns</p>\n",
       "</div>"
      ],
      "text/plain": [
       "             MICROSOFT     GOOGLE       TESLA      AMAZON\n",
       "Date                                                     \n",
       "2019-12-31  157.699997  66.969498   27.888666   92.391998\n",
       "2020-01-02  160.619995  68.433998   28.684000   94.900497\n",
       "2020-01-03  158.619995  68.075996   29.534000   93.748497\n",
       "2020-01-06  159.029999  69.890503   30.102667   95.143997\n",
       "2020-01-07  157.580002  69.755501   31.270666   95.343002\n",
       "...                ...        ...         ...         ...\n",
       "2020-12-24  222.750000  86.708000  220.589996  158.634506\n",
       "2020-12-28  224.960007  88.697998  221.229996  164.197998\n",
       "2020-12-29  224.149994  87.888000  221.996674  166.100006\n",
       "2020-12-30  221.679993  86.812500  231.593338  164.292496\n",
       "2020-12-31  222.419998  87.632004  235.223328  162.846497\n",
       "\n",
       "[254 rows x 4 columns]"
      ]
     },
     "execution_count": 4,
     "metadata": {},
     "output_type": "execute_result"
    }
   ],
   "source": [
    "stocks = pd.concat([msft['Close'],google['Close'],tesla['Close'],amzn['Close']], axis=1)\n",
    "stocks.columns = ['MICROSOFT','GOOGLE','TESLA','AMAZON']\n",
    "stocks"
   ]
  },
  {
   "cell_type": "markdown",
   "id": "951ff940",
   "metadata": {},
   "source": [
    "**Finding Returns of the stocks. we also need Log Returns because the prices of the stocks are in different range.**"
   ]
  },
  {
   "cell_type": "code",
   "execution_count": 5,
   "id": "73fea4c3",
   "metadata": {},
   "outputs": [
    {
     "data": {
      "text/html": [
       "<div>\n",
       "<style scoped>\n",
       "    .dataframe tbody tr th:only-of-type {\n",
       "        vertical-align: middle;\n",
       "    }\n",
       "\n",
       "    .dataframe tbody tr th {\n",
       "        vertical-align: top;\n",
       "    }\n",
       "\n",
       "    .dataframe thead th {\n",
       "        text-align: right;\n",
       "    }\n",
       "</style>\n",
       "<table border=\"1\" class=\"dataframe\">\n",
       "  <thead>\n",
       "    <tr style=\"text-align: right;\">\n",
       "      <th></th>\n",
       "      <th>MICROSOFT</th>\n",
       "      <th>GOOGLE</th>\n",
       "      <th>TESLA</th>\n",
       "      <th>AMAZON</th>\n",
       "    </tr>\n",
       "  </thead>\n",
       "  <tbody>\n",
       "    <tr>\n",
       "      <th>MICROSOFT</th>\n",
       "      <td>0.000768</td>\n",
       "      <td>0.000581</td>\n",
       "      <td>0.000818</td>\n",
       "      <td>0.000497</td>\n",
       "    </tr>\n",
       "    <tr>\n",
       "      <th>GOOGLE</th>\n",
       "      <td>0.000581</td>\n",
       "      <td>0.000591</td>\n",
       "      <td>0.000636</td>\n",
       "      <td>0.000400</td>\n",
       "    </tr>\n",
       "    <tr>\n",
       "      <th>TESLA</th>\n",
       "      <td>0.000818</td>\n",
       "      <td>0.000636</td>\n",
       "      <td>0.003180</td>\n",
       "      <td>0.000641</td>\n",
       "    </tr>\n",
       "    <tr>\n",
       "      <th>AMAZON</th>\n",
       "      <td>0.000497</td>\n",
       "      <td>0.000400</td>\n",
       "      <td>0.000641</td>\n",
       "      <td>0.000586</td>\n",
       "    </tr>\n",
       "  </tbody>\n",
       "</table>\n",
       "</div>"
      ],
      "text/plain": [
       "           MICROSOFT    GOOGLE     TESLA    AMAZON\n",
       "MICROSOFT   0.000768  0.000581  0.000818  0.000497\n",
       "GOOGLE      0.000581  0.000591  0.000636  0.000400\n",
       "TESLA       0.000818  0.000636  0.003180  0.000641\n",
       "AMAZON      0.000497  0.000400  0.000641  0.000586"
      ]
     },
     "execution_count": 5,
     "metadata": {},
     "output_type": "execute_result"
    }
   ],
   "source": [
    "cov_matrix = stocks.pct_change().apply(lambda x: np.log(1+x)).cov()\n",
    "cov_matrix"
   ]
  },
  {
   "cell_type": "code",
   "execution_count": 6,
   "id": "a2f6783f",
   "metadata": {},
   "outputs": [
    {
     "data": {
      "text/plain": [
       "MICROSOFT    0.410400\n",
       "GOOGLE       0.308536\n",
       "TESLA        7.434370\n",
       "AMAZON       0.762561\n",
       "dtype: float64"
      ]
     },
     "execution_count": 6,
     "metadata": {},
     "output_type": "execute_result"
    }
   ],
   "source": [
    "e_r = stocks.resample('Y').last().pct_change().mean()\n",
    "e_r"
   ]
  },
  {
   "cell_type": "code",
   "execution_count": 7,
   "id": "1b52f784",
   "metadata": {},
   "outputs": [
    {
     "data": {
      "text/plain": [
       "MICROSOFT    0.438234\n",
       "GOOGLE       0.384488\n",
       "TESLA        0.891612\n",
       "AMAZON       0.382623\n",
       "dtype: float64"
      ]
     },
     "execution_count": 7,
     "metadata": {},
     "output_type": "execute_result"
    }
   ],
   "source": [
    "sd = stocks.pct_change().apply(lambda x: np.log(1+x)).std().apply(lambda x: x*np.sqrt(250))\n",
    "sd"
   ]
  },
  {
   "cell_type": "code",
   "execution_count": 8,
   "id": "a3015b1a",
   "metadata": {},
   "outputs": [
    {
     "data": {
      "text/html": [
       "<div>\n",
       "<style scoped>\n",
       "    .dataframe tbody tr th:only-of-type {\n",
       "        vertical-align: middle;\n",
       "    }\n",
       "\n",
       "    .dataframe tbody tr th {\n",
       "        vertical-align: top;\n",
       "    }\n",
       "\n",
       "    .dataframe thead th {\n",
       "        text-align: right;\n",
       "    }\n",
       "</style>\n",
       "<table border=\"1\" class=\"dataframe\">\n",
       "  <thead>\n",
       "    <tr style=\"text-align: right;\">\n",
       "      <th></th>\n",
       "      <th>Returns</th>\n",
       "      <th>Volatility</th>\n",
       "    </tr>\n",
       "  </thead>\n",
       "  <tbody>\n",
       "    <tr>\n",
       "      <th>MICROSOFT</th>\n",
       "      <td>0.410400</td>\n",
       "      <td>0.438234</td>\n",
       "    </tr>\n",
       "    <tr>\n",
       "      <th>GOOGLE</th>\n",
       "      <td>0.308536</td>\n",
       "      <td>0.384488</td>\n",
       "    </tr>\n",
       "    <tr>\n",
       "      <th>TESLA</th>\n",
       "      <td>7.434370</td>\n",
       "      <td>0.891612</td>\n",
       "    </tr>\n",
       "    <tr>\n",
       "      <th>AMAZON</th>\n",
       "      <td>0.762561</td>\n",
       "      <td>0.382623</td>\n",
       "    </tr>\n",
       "  </tbody>\n",
       "</table>\n",
       "</div>"
      ],
      "text/plain": [
       "            Returns  Volatility\n",
       "MICROSOFT  0.410400    0.438234\n",
       "GOOGLE     0.308536    0.384488\n",
       "TESLA      7.434370    0.891612\n",
       "AMAZON     0.762561    0.382623"
      ]
     },
     "execution_count": 8,
     "metadata": {},
     "output_type": "execute_result"
    }
   ],
   "source": [
    "assets = pd.concat([e_r, sd], axis=1)\n",
    "assets.columns = ['Returns', 'Volatility']\n",
    "assets"
   ]
  },
  {
   "cell_type": "code",
   "execution_count": 33,
   "id": "e08dbb46",
   "metadata": {},
   "outputs": [],
   "source": [
    "p_ret = []\n",
    "p_vol = []\n",
    "p_weights = []\n",
    "sharpe_ratio = []\n",
    "\n",
    "num_assets = len(stocks.columns)\n",
    "num_portfolios = 1000"
   ]
  },
  {
   "cell_type": "code",
   "execution_count": 34,
   "id": "5b71ba59",
   "metadata": {},
   "outputs": [],
   "source": [
    "for portfolio in range(num_portfolios):\n",
    "    weights = np.random.random(num_assets)\n",
    "    weights = weights/np.sum(weights)\n",
    "    p_weights.append(weights)\n",
    "    returns = np.dot(weights, e_r)\n",
    "    p_ret.append(returns)\n",
    "    var = cov_matrix.mul(weights, axis=0).mul(weights, axis=1).sum().sum()\n",
    "    sd = np.sqrt(var)\n",
    "    ann_sd = sd*np.sqrt(250)\n",
    "    p_vol.append(ann_sd)\n",
    "    SR = returns / ann_sd\n",
    "    sharpe_ratio.append(SR)"
   ]
  },
  {
   "cell_type": "code",
   "execution_count": 45,
   "id": "27f36673",
   "metadata": {},
   "outputs": [],
   "source": [
    "data = {'Returns':p_ret, 'Volatility':p_vol,'Sharpe_Ratio':sharpe_ratio}"
   ]
  },
  {
   "cell_type": "code",
   "execution_count": 46,
   "id": "0a464811",
   "metadata": {},
   "outputs": [],
   "source": [
    "for counter, symbol in enumerate(stocks.columns.tolist()):\n",
    "    data[symbol+' weight'] = [w[counter] for w in p_weights]"
   ]
  },
  {
   "cell_type": "code",
   "execution_count": 47,
   "id": "e39196ff",
   "metadata": {
    "scrolled": true
   },
   "outputs": [
    {
     "data": {
      "text/html": [
       "<div>\n",
       "<style scoped>\n",
       "    .dataframe tbody tr th:only-of-type {\n",
       "        vertical-align: middle;\n",
       "    }\n",
       "\n",
       "    .dataframe tbody tr th {\n",
       "        vertical-align: top;\n",
       "    }\n",
       "\n",
       "    .dataframe thead th {\n",
       "        text-align: right;\n",
       "    }\n",
       "</style>\n",
       "<table border=\"1\" class=\"dataframe\">\n",
       "  <thead>\n",
       "    <tr style=\"text-align: right;\">\n",
       "      <th></th>\n",
       "      <th>Returns</th>\n",
       "      <th>Volatility</th>\n",
       "      <th>Sharpe_Ratio</th>\n",
       "      <th>MICROSOFT weight</th>\n",
       "      <th>GOOGLE weight</th>\n",
       "      <th>TESLA weight</th>\n",
       "      <th>AMAZON weight</th>\n",
       "    </tr>\n",
       "  </thead>\n",
       "  <tbody>\n",
       "    <tr>\n",
       "      <th>0</th>\n",
       "      <td>2.332282</td>\n",
       "      <td>0.438389</td>\n",
       "      <td>5.320124</td>\n",
       "      <td>0.203452</td>\n",
       "      <td>0.182193</td>\n",
       "      <td>0.258414</td>\n",
       "      <td>0.355942</td>\n",
       "    </tr>\n",
       "    <tr>\n",
       "      <th>1</th>\n",
       "      <td>2.666058</td>\n",
       "      <td>0.497900</td>\n",
       "      <td>5.354604</td>\n",
       "      <td>0.535057</td>\n",
       "      <td>0.135543</td>\n",
       "      <td>0.322771</td>\n",
       "      <td>0.006629</td>\n",
       "    </tr>\n",
       "    <tr>\n",
       "      <th>2</th>\n",
       "      <td>3.791316</td>\n",
       "      <td>0.553377</td>\n",
       "      <td>6.851234</td>\n",
       "      <td>0.253903</td>\n",
       "      <td>0.030249</td>\n",
       "      <td>0.469424</td>\n",
       "      <td>0.246424</td>\n",
       "    </tr>\n",
       "    <tr>\n",
       "      <th>3</th>\n",
       "      <td>2.306029</td>\n",
       "      <td>0.459450</td>\n",
       "      <td>5.019108</td>\n",
       "      <td>0.270823</td>\n",
       "      <td>0.451999</td>\n",
       "      <td>0.276396</td>\n",
       "      <td>0.000783</td>\n",
       "    </tr>\n",
       "    <tr>\n",
       "      <th>4</th>\n",
       "      <td>3.474989</td>\n",
       "      <td>0.518283</td>\n",
       "      <td>6.704811</td>\n",
       "      <td>0.141282</td>\n",
       "      <td>0.090939</td>\n",
       "      <td>0.420196</td>\n",
       "      <td>0.347582</td>\n",
       "    </tr>\n",
       "  </tbody>\n",
       "</table>\n",
       "</div>"
      ],
      "text/plain": [
       "    Returns  Volatility  Sharpe_Ratio  MICROSOFT weight  GOOGLE weight  \\\n",
       "0  2.332282    0.438389      5.320124          0.203452       0.182193   \n",
       "1  2.666058    0.497900      5.354604          0.535057       0.135543   \n",
       "2  3.791316    0.553377      6.851234          0.253903       0.030249   \n",
       "3  2.306029    0.459450      5.019108          0.270823       0.451999   \n",
       "4  3.474989    0.518283      6.704811          0.141282       0.090939   \n",
       "\n",
       "   TESLA weight  AMAZON weight  \n",
       "0      0.258414       0.355942  \n",
       "1      0.322771       0.006629  \n",
       "2      0.469424       0.246424  \n",
       "3      0.276396       0.000783  \n",
       "4      0.420196       0.347582  "
      ]
     },
     "execution_count": 47,
     "metadata": {},
     "output_type": "execute_result"
    }
   ],
   "source": [
    "portfolios = pd.DataFrame(data)\n",
    "portfolios.head()"
   ]
  },
  {
   "cell_type": "code",
   "execution_count": 60,
   "id": "a11351a9",
   "metadata": {},
   "outputs": [
    {
     "data": {
      "text/html": [
       "<div>\n",
       "<style scoped>\n",
       "    .dataframe tbody tr th:only-of-type {\n",
       "        vertical-align: middle;\n",
       "    }\n",
       "\n",
       "    .dataframe tbody tr th {\n",
       "        vertical-align: top;\n",
       "    }\n",
       "\n",
       "    .dataframe thead th {\n",
       "        text-align: right;\n",
       "    }\n",
       "</style>\n",
       "<table border=\"1\" class=\"dataframe\">\n",
       "  <thead>\n",
       "    <tr style=\"text-align: right;\">\n",
       "      <th></th>\n",
       "      <th>Returns</th>\n",
       "      <th>Volatility</th>\n",
       "      <th>Sharpe_Ratio</th>\n",
       "      <th>MICROSOFT weight</th>\n",
       "      <th>GOOGLE weight</th>\n",
       "      <th>TESLA weight</th>\n",
       "      <th>AMAZON weight</th>\n",
       "    </tr>\n",
       "  </thead>\n",
       "  <tbody>\n",
       "    <tr>\n",
       "      <th>489</th>\n",
       "      <td>6.365456</td>\n",
       "      <td>0.780427</td>\n",
       "      <td>8.156373</td>\n",
       "      <td>0.004648</td>\n",
       "      <td>0.016525</td>\n",
       "      <td>0.841156</td>\n",
       "      <td>0.137671</td>\n",
       "    </tr>\n",
       "  </tbody>\n",
       "</table>\n",
       "</div>"
      ],
      "text/plain": [
       "      Returns  Volatility  Sharpe_Ratio  MICROSOFT weight  GOOGLE weight  \\\n",
       "489  6.365456    0.780427      8.156373          0.004648       0.016525   \n",
       "\n",
       "     TESLA weight  AMAZON weight  \n",
       "489      0.841156       0.137671  "
      ]
     },
     "execution_count": 60,
     "metadata": {},
     "output_type": "execute_result"
    }
   ],
   "source": [
    "portfolios[portfolios['Sharpe_Ratio']==portfolios['Sharpe_Ratio'].max()]"
   ]
  },
  {
   "cell_type": "code",
   "execution_count": 61,
   "id": "30d8ffe8",
   "metadata": {},
   "outputs": [
    {
     "data": {
      "text/plain": [
       "Returns             6.365456\n",
       "Volatility          0.780427\n",
       "Sharpe_Ratio        8.156373\n",
       "MICROSOFT weight    0.004648\n",
       "GOOGLE weight       0.016525\n",
       "TESLA weight        0.841156\n",
       "AMAZON weight       0.137671\n",
       "Name: 489, dtype: float64"
      ]
     },
     "execution_count": 61,
     "metadata": {},
     "output_type": "execute_result"
    }
   ],
   "source": [
    "max_SR_port = portfolios.iloc[portfolios['Sharpe_Ratio'].idxmax()]\n",
    "max_SR_port"
   ]
  },
  {
   "cell_type": "code",
   "execution_count": 68,
   "id": "ec06446d",
   "metadata": {
    "scrolled": true
   },
   "outputs": [
    {
     "data": {
      "text/plain": [
       "<Figure size 864x864 with 0 Axes>"
      ]
     },
     "metadata": {},
     "output_type": "display_data"
    },
    {
     "data": {
      "image/png": "[encoded data removed]",
      "text/plain": [
       "<Figure size 432x288 with 1 Axes>"
      ]
     },
     "metadata": {
      "needs_background": "light"
     },
     "output_type": "display_data"
    }
   ],
   "source": [
    "plt.figure(figsize=(12,12))\n",
    "portfolios.plot.scatter(x='Volatility', y='Returns',c='blue')\n",
    "plt.xlabel('Expected Volatility')\n",
    "plt.ylabel('Expected Returns')\n",
    "plt.scatter(max_SR_port[1], max_SR_port[0], color='red')\n",
    "plt.show()"
   ]
  },
  {
   "cell_type": "markdown",
   "id": "cc90a86a",
   "metadata": {},
   "source": [
    "# Global Minimum Variance Portfolio"
   ]
  },
  {
   "cell_type": "code",
   "execution_count": 58,
   "id": "b5e8d5ce",
   "metadata": {},
   "outputs": [
    {
     "data": {
      "text/html": [
       "<div>\n",
       "<style scoped>\n",
       "    .dataframe tbody tr th:only-of-type {\n",
       "        vertical-align: middle;\n",
       "    }\n",
       "\n",
       "    .dataframe tbody tr th {\n",
       "        vertical-align: top;\n",
       "    }\n",
       "\n",
       "    .dataframe thead th {\n",
       "        text-align: right;\n",
       "    }\n",
       "</style>\n",
       "<table border=\"1\" class=\"dataframe\">\n",
       "  <thead>\n",
       "    <tr style=\"text-align: right;\">\n",
       "      <th></th>\n",
       "      <th>Returns</th>\n",
       "      <th>Volatility</th>\n",
       "      <th>Sharpe_Ratio</th>\n",
       "      <th>MICROSOFT weight</th>\n",
       "      <th>GOOGLE weight</th>\n",
       "      <th>TESLA weight</th>\n",
       "      <th>AMAZON weight</th>\n",
       "    </tr>\n",
       "  </thead>\n",
       "  <tbody>\n",
       "    <tr>\n",
       "      <th>726</th>\n",
       "      <td>0.550886</td>\n",
       "      <td>0.354198</td>\n",
       "      <td>1.555303</td>\n",
       "      <td>0.043769</td>\n",
       "      <td>0.523177</td>\n",
       "      <td>0.006186</td>\n",
       "      <td>0.426868</td>\n",
       "    </tr>\n",
       "  </tbody>\n",
       "</table>\n",
       "</div>"
      ],
      "text/plain": [
       "      Returns  Volatility  Sharpe_Ratio  MICROSOFT weight  GOOGLE weight  \\\n",
       "726  0.550886    0.354198      1.555303          0.043769       0.523177   \n",
       "\n",
       "     TESLA weight  AMAZON weight  \n",
       "726      0.006186       0.426868  "
      ]
     },
     "execution_count": 58,
     "metadata": {},
     "output_type": "execute_result"
    }
   ],
   "source": [
    "portfolios[portfolios['Volatility']==portfolios['Volatility'].min()]"
   ]
  },
  {
   "cell_type": "code",
   "execution_count": 59,
   "id": "3e99cfb3",
   "metadata": {},
   "outputs": [
    {
     "data": {
      "text/plain": [
       "Returns             0.550886\n",
       "Volatility          0.354198\n",
       "Sharpe_Ratio        1.555303\n",
       "MICROSOFT weight    0.043769\n",
       "GOOGLE weight       0.523177\n",
       "TESLA weight        0.006186\n",
       "AMAZON weight       0.426868\n",
       "Name: 726, dtype: float64"
      ]
     },
     "execution_count": 59,
     "metadata": {},
     "output_type": "execute_result"
    }
   ],
   "source": [
    "min_var_port = portfolios.iloc[portfolios['Volatility'].idxmin()]\n",
    "min_var_port"
   ]
  },
  {
   "cell_type": "code",
   "execution_count": 17,
   "id": "4c691547",
   "metadata": {},
   "outputs": [
    {
     "data": {
      "text/plain": [
       "<matplotlib.collections.PathCollection at 0x21bc2149670>"
      ]
     },
     "execution_count": 17,
     "metadata": {},
     "output_type": "execute_result"
    },
    {
     "data": {
      "image/png": "[encoded data removed]",
      "text/plain": [
       "<Figure size 1440x720 with 1 Axes>"
      ]
     },
     "metadata": {
      "needs_background": "light"
     },
     "output_type": "display_data"
    }
   ],
   "source": [
    "import matplotlib.pyplot as plt\n",
    "plt.subplots(figsize=(20,10))\n",
    "plt.scatter(portfolios['Volatility'], portfolios['Returns'])\n",
    "plt.scatter(min_var_port[1], min_var_port[0], color='y')"
   ]
  },
  {
   "cell_type": "markdown",
   "id": "a327ef2b",
   "metadata": {},
   "source": [
    "# Optimal Risky Portfolio"
   ]
  },
  {
   "cell_type": "markdown",
   "id": "178ef762",
   "metadata": {},
   "source": [
    "$$Sharpe Ratio = \\frac{E(R_i)-rf}{\\sigma_i}$$"
   ]
  },
  {
   "cell_type": "code",
   "execution_count": 69,
   "id": "60cdd60f",
   "metadata": {},
   "outputs": [],
   "source": [
    "rf = 0.025"
   ]
  },
  {
   "cell_type": "code",
   "execution_count": 70,
   "id": "e44f710b",
   "metadata": {},
   "outputs": [
    {
     "data": {
      "text/plain": [
       "489"
      ]
     },
     "execution_count": 70,
     "metadata": {},
     "output_type": "execute_result"
    }
   ],
   "source": [
    "((portfolios['Returns']-rf)/portfolios['Volatility']).idxmax()"
   ]
  },
  {
   "cell_type": "code",
   "execution_count": 71,
   "id": "79489b0b",
   "metadata": {},
   "outputs": [
    {
     "data": {
      "text/plain": [
       "Returns             6.365456\n",
       "Volatility          0.780427\n",
       "Sharpe_Ratio        8.156373\n",
       "MICROSOFT weight    0.004648\n",
       "GOOGLE weight       0.016525\n",
       "TESLA weight        0.841156\n",
       "AMAZON weight       0.137671\n",
       "Name: 489, dtype: float64"
      ]
     },
     "execution_count": 71,
     "metadata": {},
     "output_type": "execute_result"
    }
   ],
   "source": [
    "optimal_risky_port = portfolios.iloc[((portfolios['Returns']-rf)/portfolios['Volatility']).idxmax()]\n",
    "optimal_risky_port"
   ]
  },
  {
   "cell_type": "code",
   "execution_count": 73,
   "id": "33dff2d8",
   "metadata": {
    "scrolled": true
   },
   "outputs": [
    {
     "data": {
      "text/plain": [
       "<matplotlib.collections.PathCollection at 0x21bc3fbd520>"
      ]
     },
     "execution_count": 73,
     "metadata": {},
     "output_type": "execute_result"
    },
    {
     "data": {
      "image/png": "[encoded data removed]",
      "text/plain": [
       "<Figure size 1440x720 with 1 Axes>"
      ]
     },
     "metadata": {
      "needs_background": "light"
     },
     "output_type": "display_data"
    }
   ],
   "source": [
    "plt.subplots(figsize=(20,10))\n",
    "plt.scatter(portfolios['Volatility'], portfolios['Returns'])\n",
    "plt.scatter(min_var_port[1], min_var_port[0], color='y')\n",
    "plt.scatter(optimal_risky_port[1], optimal_risky_port[0], color='red')"
   ]
  },
  {
   "cell_type": "markdown",
   "id": "f3f66b16",
   "metadata": {},
   "source": [
    "# Utility Function"
   ]
  },
  {
   "cell_type": "markdown",
   "id": "2bd7bc0d",
   "metadata": {},
   "source": [
    "$$U = E(R)-0.5A\\sigma^2$$"
   ]
  },
  {
   "cell_type": "markdown",
   "id": "9d008442",
   "metadata": {},
   "source": [
    "# Capital Allocation Line"
   ]
  },
  {
   "cell_type": "markdown",
   "id": "f7f0af7e",
   "metadata": {},
   "source": [
    "$$E(R_P) = rf + \\frac{E(R_i)-rf}{\\sigma_i}\\sigma_p$$"
   ]
  },
  {
   "cell_type": "code",
   "execution_count": 74,
   "id": "c877dc78",
   "metadata": {},
   "outputs": [],
   "source": [
    "cal_x = []\n",
    "cal_y = []\n",
    "utility = []\n",
    "a = 10"
   ]
  },
  {
   "cell_type": "code",
   "execution_count": 75,
   "id": "1e63e827",
   "metadata": {},
   "outputs": [],
   "source": [
    "for er in np.linspace(rf, max(p_ret), 20):\n",
    "    sd = (er - rf)/((optimal_risky_port[0]-rf)/optimal_risky_port[1])\n",
    "    u = er - .5*a*(sd**2)\n",
    "    cal_x.append(sd)\n",
    "    cal_y.append(er)\n",
    "    utility.append(u)"
   ]
  },
  {
   "cell_type": "code",
   "execution_count": 76,
   "id": "74b9caf4",
   "metadata": {},
   "outputs": [
    {
     "data": {
      "text/html": [
       "<div>\n",
       "<style scoped>\n",
       "    .dataframe tbody tr th:only-of-type {\n",
       "        vertical-align: middle;\n",
       "    }\n",
       "\n",
       "    .dataframe tbody tr th {\n",
       "        vertical-align: top;\n",
       "    }\n",
       "\n",
       "    .dataframe thead th {\n",
       "        text-align: right;\n",
       "    }\n",
       "</style>\n",
       "<table border=\"1\" class=\"dataframe\">\n",
       "  <thead>\n",
       "    <tr style=\"text-align: right;\">\n",
       "      <th></th>\n",
       "      <th>utility</th>\n",
       "      <th>cal_y</th>\n",
       "      <th>cal_x</th>\n",
       "    </tr>\n",
       "  </thead>\n",
       "  <tbody>\n",
       "    <tr>\n",
       "      <th>0</th>\n",
       "      <td>0.025000</td>\n",
       "      <td>0.025000</td>\n",
       "      <td>0.000000</td>\n",
       "    </tr>\n",
       "    <tr>\n",
       "      <th>1</th>\n",
       "      <td>0.350272</td>\n",
       "      <td>0.358708</td>\n",
       "      <td>0.041075</td>\n",
       "    </tr>\n",
       "    <tr>\n",
       "      <th>2</th>\n",
       "      <td>0.658673</td>\n",
       "      <td>0.692416</td>\n",
       "      <td>0.082150</td>\n",
       "    </tr>\n",
       "    <tr>\n",
       "      <th>3</th>\n",
       "      <td>0.950202</td>\n",
       "      <td>1.026125</td>\n",
       "      <td>0.123225</td>\n",
       "    </tr>\n",
       "    <tr>\n",
       "      <th>4</th>\n",
       "      <td>1.224860</td>\n",
       "      <td>1.359833</td>\n",
       "      <td>0.164300</td>\n",
       "    </tr>\n",
       "  </tbody>\n",
       "</table>\n",
       "</div>"
      ],
      "text/plain": [
       "    utility     cal_y     cal_x\n",
       "0  0.025000  0.025000  0.000000\n",
       "1  0.350272  0.358708  0.041075\n",
       "2  0.658673  0.692416  0.082150\n",
       "3  0.950202  1.026125  0.123225\n",
       "4  1.224860  1.359833  0.164300"
      ]
     },
     "execution_count": 76,
     "metadata": {},
     "output_type": "execute_result"
    }
   ],
   "source": [
    "data2 = {'utility':utility, 'cal_y':cal_y, 'cal_x':cal_x}\n",
    "cal = pd.DataFrame(data2)\n",
    "cal.head()"
   ]
  },
  {
   "cell_type": "code",
   "execution_count": 80,
   "id": "a306290c",
   "metadata": {},
   "outputs": [
    {
     "data": {
      "text/plain": [
       "[<matplotlib.lines.Line2D at 0x21bc3e2bb80>]"
      ]
     },
     "execution_count": 80,
     "metadata": {},
     "output_type": "execute_result"
    },
    {
     "data": {
      "image/png": "[encoded data removed]",
      "text/plain": [
       "<Figure size 1440x720 with 1 Axes>"
      ]
     },
     "metadata": {
      "needs_background": "light"
     },
     "output_type": "display_data"
    }
   ],
   "source": [
    "plt.subplots(figsize=(20,10))\n",
    "plt.scatter(portfolios['Volatility'], portfolios['Returns'])\n",
    "plt.scatter(min_var_port[1], min_var_port[0], color='g')\n",
    "plt.scatter(optimal_risky_port[1], optimal_risky_port[0], color='red')\n",
    "plt.plot(cal_x, cal_y, color='yellow')"
   ]
  },
  {
   "cell_type": "code",
   "execution_count": 81,
   "id": "14d3e63a",
   "metadata": {},
   "outputs": [
    {
     "data": {
      "text/plain": [
       "19"
      ]
     },
     "execution_count": 81,
     "metadata": {},
     "output_type": "execute_result"
    }
   ],
   "source": [
    "cal['utility'].idxmax()"
   ]
  },
  {
   "cell_type": "code",
   "execution_count": 82,
   "id": "9db8d495",
   "metadata": {
    "scrolled": true
   },
   "outputs": [
    {
     "data": {
      "text/plain": [
       "utility    3.320122\n",
       "cal_y      6.365456\n",
       "cal_x      0.780427\n",
       "Name: 19, dtype: float64"
      ]
     },
     "execution_count": 82,
     "metadata": {},
     "output_type": "execute_result"
    }
   ],
   "source": [
    "investors_port = cal.iloc[cal['utility'].idxmax()]\n",
    "investors_port"
   ]
  },
  {
   "cell_type": "code",
   "execution_count": 83,
   "id": "62a6050c",
   "metadata": {},
   "outputs": [
    {
     "data": {
      "text/plain": [
       "[<matplotlib.lines.Line2D at 0x21bc2565880>]"
      ]
     },
     "execution_count": 83,
     "metadata": {},
     "output_type": "execute_result"
    },
    {
     "data": {
      "image/png": "[encoded data removed]",
      "text/plain": [
       "<Figure size 1440x720 with 1 Axes>"
      ]
     },
     "metadata": {
      "needs_background": "light"
     },
     "output_type": "display_data"
    }
   ],
   "source": [
    "plt.subplots(figsize=(20,10))\n",
    "plt.scatter(portfolios['Volatility'], portfolios['Returns'])\n",
    "plt.scatter(min_var_port[1], min_var_port[0], color='y')\n",
    "plt.scatter(optimal_risky_port[1], optimal_risky_port[0], color='g')\n",
    "plt.plot(cal_x, cal_y, color='r')\n",
    "plt.plot(investors_port[2], investors_port[1], 'o', color='b')"
   ]
  }
 ],
 "metadata": {
  "kernelspec": {
   "display_name": "Python 3 (ipykernel)",
   "language": "python",
   "name": "python3"
  },
  "language_info": {
   "codemirror_mode": {
    "name": "ipython",
    "version": 3
   },
   "file_extension": ".py",
   "mimetype": "text/x-python",
   "name": "python",
   "nbconvert_exporter": "python",
   "pygments_lexer": "ipython3",
   "version": "3.9.7"
  }
 },
 "nbformat": 4,
 "nbformat_minor": 5
}
